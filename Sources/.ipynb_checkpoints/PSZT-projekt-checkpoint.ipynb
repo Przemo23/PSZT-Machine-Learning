{
 "cells": [
  {
   "cell_type": "markdown",
   "metadata": {},
   "source": [
    "# Project PSZT - PZ.U5 - rating kredytowy \n",
    "# Authors:\n",
    "##  - Mateusz Marciniewicz\n",
    "##  - Przemyslaw Bedelek\n"
   ]
  },
  {
   "cell_type": "code",
   "execution_count": 1,
   "metadata": {},
   "outputs": [],
   "source": [
    "# Analiza i modyfikacja danych\n",
    "import pandas as pd\n",
    "import numpy as np\n",
    "import random\n",
    "# Wizualizacja\n",
    "import seaborn as sns\n",
    "import matplotlib \n",
    "import matplotlib.pyplot as plt\n",
    "\n",
    "\n",
    "\n",
    "\n",
    "# machine learning\n",
    "from sklearn.linear_model import LinearRegression\n",
    "from sklearn.tree import DecisionTreeClassifier\n",
    "from sklearn.preprocessing import OneHotEncoder\n",
    "from sklearn.model_selection import train_test_split\n",
    "from sklearn.model_selection import GridSearchCV\n",
    "from sklearn import svm\n",
    "from sklearn import preprocessing\n",
    "from sklearn.naive_bayes import GaussianNB\n",
    "from sklearn.naive_bayes import BernoulliNB\n",
    "from sklearn.naive_bayes import CategoricalNB\n",
    "\n",
    "# Ewaluacja\n",
    "from sklearn.metrics import confusion_matrix, precision_score\n",
    "from sklearn.metrics import recall_score, f1_score, accuracy_score\n"
   ]
  },
  {
   "cell_type": "markdown",
   "metadata": {},
   "source": [
    "# Dataset analysis\n",
    "## Dataset name: German credit\n",
    "## Source: https://online.stat.psu.edu/stat508/book/export/html/796\n",
    "\n",
    "## Columns description:\n",
    "\n",
    "### 1. Creditability - target attribute\n",
    "  * 1 - not trustworthy credit taker\n",
    "  * 2 - trustworthy credit taker\n",
    "### 2. Account balance\n",
    "  * 1 - no account 27.4%\n",
    "  * 2 - in debt or none 26.9%\n",
    "  * 3 - below 200DM 6.3%\n",
    "  * 4 - above 200DM 39.4%\n",
    "### 3. Duration od credit (month)\n",
    "### 4. Payment Status of Previous Credit\n",
    "  * 1 - delayed  4.0%\n",
    "  * 2 - other credits 4.9%\n",
    "  * 3 - paid up 53%\n",
    "  * 4 - no problem with current credits 8.8%\n",
    "  * 5 - previous credits paid 29.3%\n",
    "### 5. Purpose of the credit  \n",
    "  * 1 - new car 10.3%\n",
    "  * 2 - used car 18.1%\n",
    "  * 3 - furniture 28%\n",
    "  * 4 - radio/tv 1.2%\n",
    "  * 5 - appliances 2.2%\n",
    "  * 6 - repair 5.0%\n",
    "  * 7 - vacation 0.9%\n",
    "  * 8 - retraining 9.7%\n",
    "  * 9 - business 1.2%\n",
    "  * 10 - other 23.4%\n",
    "### 6. Credit Amount\n",
    "### 7. Value Savings/Stocks\n",
    "  * 1 - none 60.3%\n",
    "  * 2 - below 100 DM 10.3%\n",
    "  * 3 - over 100 DM below 500 DM 6.3%\n",
    "  * 4 - over 500 DM below 1000 DM 4.8%\n",
    "  * 5 - over 1000 DM\n",
    "### 8.Length of current employment\n",
    "  * 1 - unemployed 6.2%\n",
    "  * 2 - <1 year 17.2%\n",
    "  * 3 - over 1 below 4 33.9%\n",
    "  * 4 - over 4 below 7 17.4%\n",
    "  * 5 - >7 years 25.3%\n",
    "### 9. Instalment percent\n",
    "  * 1 - above 35% 13.6%\n",
    "  * 2 - (25%,35%) 23.1%\n",
    "  * 3 - (20%,25%) 15.7%\n",
    "  * 4 - below 20% 47.6%\n",
    "### 10. Sex & Marital Status\n",
    "  * 1 - Male, Divorced 5.0%\n",
    "  * 2 - Male, Single 31.0%\n",
    "  * 3 - Male, Married/Widowed 54.8%\n",
    "  * 4 - Female 9.2%\n",
    "### 11. Guarantors\n",
    "  * 1 - None 90.7%\n",
    "  * 2 - Co-applicant 4.1%\n",
    "  * 3 - Guarantor 5.2%\n",
    "### 12. Duration in Current address\n",
    "  * 1 - <1 year 13.0%\n",
    "  * 2 - over 1 below 4 30.8%\n",
    "  * 3 - over 4 below 7 14.9%\n",
    "  * 4 - >7 years 41.3%\n",
    "### 13. Most valuable available asset\n",
    "  * 1 - None 28.2%\n",
    "  * 2 - Car 23.2%\n",
    "  * 3 - Life Insurance 33.2%\n",
    "  * 4 - Real estate 15.4%\n",
    "### 14. Age( years)\n",
    "### 15. Concurrent credits\n",
    "  * 1 - other banks 13.9%\n",
    "  * 2 - dept.store 4.7%\n",
    "  * 3 - none 81.4%\n",
    "### 16. Type of apartment\n",
    "  * 1 - free 17.9%\n",
    "  * 2 - rented 71.4%\n",
    "  * 3 - owned 10.7%\n",
    "### 17. No. of credits at Bank\n",
    "  * 1 - 1 63.3%\n",
    "  * 2 - 2-3 33.3%\n",
    "  * 3 - 4-5 2.8%\n",
    "  * 4 - above 6 0.06%\n",
    "### 18.Occupation\n",
    "  * 1 - unemployed, unskilled 2.2%\n",
    "  * 2 - unskilled permament resident 20.0%\n",
    "  * 3 - skilled 63.0%\n",
    "  * 4 - executive 14.8%\n",
    "### 19. No of dependents\n",
    "  * 1 - >=3 84.5%\n",
    "  * 2 - <3 15.5%\n",
    "### 20. Telephone\n",
    "  * 1 - Yes 40.4%\n",
    "  * 2 - No 59.6%\n",
    "### 21. Foreign worker\n",
    "  * 1 - Yes 3.7%\n",
    "  * 2 - No 96.3%  \n"
   ]
  },
  {
   "cell_type": "code",
   "execution_count": 2,
   "metadata": {},
   "outputs": [],
   "source": [
    "df = pd.read_csv('Data/german_credit2.csv')\n",
    "df_numeric = df"
   ]
  },
  {
   "cell_type": "code",
   "execution_count": 3,
   "metadata": {},
   "outputs": [
    {
     "name": "stdout",
     "output_type": "stream",
     "text": [
      "['Creditability' 'Account Balance' 'Duration of Credit (month)'\n",
      " 'Payment Status of Previous Credit' 'Purpose' 'Credit Amount'\n",
      " 'Value Savings/Stocks' 'Length of current employment'\n",
      " 'Instalment per cent' 'Sex & Marital Status' 'Guarantors'\n",
      " 'Duration in Current address' 'Most valuable available asset'\n",
      " 'Age (years)' 'Concurrent Credits' 'Type of apartment'\n",
      " 'No of Credits at this Bank' 'Occupation' 'No of dependents' 'Telephone'\n",
      " 'Foreign Worker']\n"
     ]
    }
   ],
   "source": [
    "print(df.columns.values)"
   ]
  },
  {
   "cell_type": "markdown",
   "metadata": {},
   "source": [
    "### Changing data columns types to category for display reasons"
   ]
  },
  {
   "cell_type": "code",
   "execution_count": 4,
   "metadata": {},
   "outputs": [],
   "source": [
    "catColumns =  ['Purpose','Account Balance','Payment Status of Previous Credit','Value Savings/Stocks','Length of current employment','Instalment per cent','Sex & Marital Status','Duration in Current address','Type of apartment','Occupation','Most valuable available asset','Concurrent Credits','No of dependents','Telephone','Foreign Worker']\n",
    "for category in catColumns:\n",
    "    df[category] = df[category].astype('category')"
   ]
  },
  {
   "cell_type": "code",
   "execution_count": 5,
   "metadata": {},
   "outputs": [
    {
     "data": {
      "text/html": [
       "<div>\n",
       "<style scoped>\n",
       "    .dataframe tbody tr th:only-of-type {\n",
       "        vertical-align: middle;\n",
       "    }\n",
       "\n",
       "    .dataframe tbody tr th {\n",
       "        vertical-align: top;\n",
       "    }\n",
       "\n",
       "    .dataframe thead th {\n",
       "        text-align: right;\n",
       "    }\n",
       "</style>\n",
       "<table border=\"1\" class=\"dataframe\">\n",
       "  <thead>\n",
       "    <tr style=\"text-align: right;\">\n",
       "      <th></th>\n",
       "      <th>Creditability</th>\n",
       "      <th>Account Balance</th>\n",
       "      <th>Duration of Credit (month)</th>\n",
       "      <th>Payment Status of Previous Credit</th>\n",
       "      <th>Purpose</th>\n",
       "      <th>Credit Amount</th>\n",
       "      <th>Value Savings/Stocks</th>\n",
       "      <th>Length of current employment</th>\n",
       "      <th>Instalment per cent</th>\n",
       "      <th>Sex &amp; Marital Status</th>\n",
       "      <th>...</th>\n",
       "      <th>Duration in Current address</th>\n",
       "      <th>Most valuable available asset</th>\n",
       "      <th>Age (years)</th>\n",
       "      <th>Concurrent Credits</th>\n",
       "      <th>Type of apartment</th>\n",
       "      <th>No of Credits at this Bank</th>\n",
       "      <th>Occupation</th>\n",
       "      <th>No of dependents</th>\n",
       "      <th>Telephone</th>\n",
       "      <th>Foreign Worker</th>\n",
       "    </tr>\n",
       "  </thead>\n",
       "  <tbody>\n",
       "    <tr>\n",
       "      <th>0</th>\n",
       "      <td>1</td>\n",
       "      <td>1</td>\n",
       "      <td>18</td>\n",
       "      <td>4</td>\n",
       "      <td>2</td>\n",
       "      <td>1049</td>\n",
       "      <td>1</td>\n",
       "      <td>2</td>\n",
       "      <td>4</td>\n",
       "      <td>2</td>\n",
       "      <td>...</td>\n",
       "      <td>4</td>\n",
       "      <td>2</td>\n",
       "      <td>21</td>\n",
       "      <td>3</td>\n",
       "      <td>1</td>\n",
       "      <td>1</td>\n",
       "      <td>3</td>\n",
       "      <td>1</td>\n",
       "      <td>1</td>\n",
       "      <td>1</td>\n",
       "    </tr>\n",
       "    <tr>\n",
       "      <th>1</th>\n",
       "      <td>1</td>\n",
       "      <td>1</td>\n",
       "      <td>9</td>\n",
       "      <td>4</td>\n",
       "      <td>0</td>\n",
       "      <td>2799</td>\n",
       "      <td>1</td>\n",
       "      <td>3</td>\n",
       "      <td>2</td>\n",
       "      <td>3</td>\n",
       "      <td>...</td>\n",
       "      <td>2</td>\n",
       "      <td>1</td>\n",
       "      <td>36</td>\n",
       "      <td>3</td>\n",
       "      <td>1</td>\n",
       "      <td>2</td>\n",
       "      <td>3</td>\n",
       "      <td>2</td>\n",
       "      <td>1</td>\n",
       "      <td>1</td>\n",
       "    </tr>\n",
       "    <tr>\n",
       "      <th>2</th>\n",
       "      <td>1</td>\n",
       "      <td>2</td>\n",
       "      <td>12</td>\n",
       "      <td>2</td>\n",
       "      <td>9</td>\n",
       "      <td>841</td>\n",
       "      <td>2</td>\n",
       "      <td>4</td>\n",
       "      <td>2</td>\n",
       "      <td>2</td>\n",
       "      <td>...</td>\n",
       "      <td>4</td>\n",
       "      <td>1</td>\n",
       "      <td>23</td>\n",
       "      <td>3</td>\n",
       "      <td>1</td>\n",
       "      <td>1</td>\n",
       "      <td>2</td>\n",
       "      <td>1</td>\n",
       "      <td>1</td>\n",
       "      <td>1</td>\n",
       "    </tr>\n",
       "    <tr>\n",
       "      <th>3</th>\n",
       "      <td>1</td>\n",
       "      <td>1</td>\n",
       "      <td>12</td>\n",
       "      <td>4</td>\n",
       "      <td>0</td>\n",
       "      <td>2122</td>\n",
       "      <td>1</td>\n",
       "      <td>3</td>\n",
       "      <td>3</td>\n",
       "      <td>3</td>\n",
       "      <td>...</td>\n",
       "      <td>2</td>\n",
       "      <td>1</td>\n",
       "      <td>39</td>\n",
       "      <td>3</td>\n",
       "      <td>1</td>\n",
       "      <td>2</td>\n",
       "      <td>2</td>\n",
       "      <td>2</td>\n",
       "      <td>1</td>\n",
       "      <td>2</td>\n",
       "    </tr>\n",
       "    <tr>\n",
       "      <th>4</th>\n",
       "      <td>1</td>\n",
       "      <td>1</td>\n",
       "      <td>12</td>\n",
       "      <td>4</td>\n",
       "      <td>0</td>\n",
       "      <td>2171</td>\n",
       "      <td>1</td>\n",
       "      <td>3</td>\n",
       "      <td>4</td>\n",
       "      <td>3</td>\n",
       "      <td>...</td>\n",
       "      <td>4</td>\n",
       "      <td>2</td>\n",
       "      <td>38</td>\n",
       "      <td>1</td>\n",
       "      <td>2</td>\n",
       "      <td>2</td>\n",
       "      <td>2</td>\n",
       "      <td>1</td>\n",
       "      <td>1</td>\n",
       "      <td>2</td>\n",
       "    </tr>\n",
       "  </tbody>\n",
       "</table>\n",
       "<p>5 rows × 21 columns</p>\n",
       "</div>"
      ],
      "text/plain": [
       "   Creditability Account Balance  Duration of Credit (month)  \\\n",
       "0              1               1                          18   \n",
       "1              1               1                           9   \n",
       "2              1               2                          12   \n",
       "3              1               1                          12   \n",
       "4              1               1                          12   \n",
       "\n",
       "  Payment Status of Previous Credit Purpose  Credit Amount  \\\n",
       "0                                 4       2           1049   \n",
       "1                                 4       0           2799   \n",
       "2                                 2       9            841   \n",
       "3                                 4       0           2122   \n",
       "4                                 4       0           2171   \n",
       "\n",
       "  Value Savings/Stocks Length of current employment Instalment per cent  \\\n",
       "0                    1                            2                   4   \n",
       "1                    1                            3                   2   \n",
       "2                    2                            4                   2   \n",
       "3                    1                            3                   3   \n",
       "4                    1                            3                   4   \n",
       "\n",
       "  Sex & Marital Status  ...  Duration in Current address  \\\n",
       "0                    2  ...                            4   \n",
       "1                    3  ...                            2   \n",
       "2                    2  ...                            4   \n",
       "3                    3  ...                            2   \n",
       "4                    3  ...                            4   \n",
       "\n",
       "  Most valuable available asset Age (years)  Concurrent Credits  \\\n",
       "0                             2          21                   3   \n",
       "1                             1          36                   3   \n",
       "2                             1          23                   3   \n",
       "3                             1          39                   3   \n",
       "4                             2          38                   1   \n",
       "\n",
       "  Type of apartment No of Credits at this Bank  Occupation No of dependents  \\\n",
       "0                 1                          1           3                1   \n",
       "1                 1                          2           3                2   \n",
       "2                 1                          1           2                1   \n",
       "3                 1                          2           2                2   \n",
       "4                 2                          2           2                1   \n",
       "\n",
       "  Telephone Foreign Worker  \n",
       "0         1              1  \n",
       "1         1              1  \n",
       "2         1              1  \n",
       "3         1              2  \n",
       "4         1              2  \n",
       "\n",
       "[5 rows x 21 columns]"
      ]
     },
     "execution_count": 5,
     "metadata": {},
     "output_type": "execute_result"
    }
   ],
   "source": [
    "df.head()"
   ]
  },
  {
   "cell_type": "code",
   "execution_count": 6,
   "metadata": {},
   "outputs": [
    {
     "name": "stdout",
     "output_type": "stream",
     "text": [
      "<class 'pandas.core.frame.DataFrame'>\n",
      "RangeIndex: 1000 entries, 0 to 999\n",
      "Data columns (total 21 columns):\n",
      "Creditability                        1000 non-null int64\n",
      "Account Balance                      1000 non-null category\n",
      "Duration of Credit (month)           1000 non-null int64\n",
      "Payment Status of Previous Credit    1000 non-null category\n",
      "Purpose                              1000 non-null category\n",
      "Credit Amount                        1000 non-null int64\n",
      "Value Savings/Stocks                 1000 non-null category\n",
      "Length of current employment         1000 non-null category\n",
      "Instalment per cent                  1000 non-null category\n",
      "Sex & Marital Status                 1000 non-null category\n",
      "Guarantors                           1000 non-null int64\n",
      "Duration in Current address          1000 non-null category\n",
      "Most valuable available asset        1000 non-null category\n",
      "Age (years)                          1000 non-null int64\n",
      "Concurrent Credits                   1000 non-null category\n",
      "Type of apartment                    1000 non-null category\n",
      "No of Credits at this Bank           1000 non-null int64\n",
      "Occupation                           1000 non-null category\n",
      "No of dependents                     1000 non-null category\n",
      "Telephone                            1000 non-null category\n",
      "Foreign Worker                       1000 non-null category\n",
      "dtypes: category(15), int64(6)\n",
      "memory usage: 64.2 KB\n"
     ]
    }
   ],
   "source": [
    "df.info()"
   ]
  },
  {
   "cell_type": "code",
   "execution_count": 7,
   "metadata": {},
   "outputs": [
    {
     "data": {
      "text/html": [
       "<div>\n",
       "<style scoped>\n",
       "    .dataframe tbody tr th:only-of-type {\n",
       "        vertical-align: middle;\n",
       "    }\n",
       "\n",
       "    .dataframe tbody tr th {\n",
       "        vertical-align: top;\n",
       "    }\n",
       "\n",
       "    .dataframe thead th {\n",
       "        text-align: right;\n",
       "    }\n",
       "</style>\n",
       "<table border=\"1\" class=\"dataframe\">\n",
       "  <thead>\n",
       "    <tr style=\"text-align: right;\">\n",
       "      <th></th>\n",
       "      <th>Creditability</th>\n",
       "      <th>Duration of Credit (month)</th>\n",
       "      <th>Credit Amount</th>\n",
       "      <th>Guarantors</th>\n",
       "      <th>Age (years)</th>\n",
       "      <th>No of Credits at this Bank</th>\n",
       "    </tr>\n",
       "  </thead>\n",
       "  <tbody>\n",
       "    <tr>\n",
       "      <th>count</th>\n",
       "      <td>1000.000000</td>\n",
       "      <td>1000.000000</td>\n",
       "      <td>1000.00000</td>\n",
       "      <td>1000.000000</td>\n",
       "      <td>1000.00000</td>\n",
       "      <td>1000.000000</td>\n",
       "    </tr>\n",
       "    <tr>\n",
       "      <th>mean</th>\n",
       "      <td>0.700000</td>\n",
       "      <td>20.903000</td>\n",
       "      <td>3271.24800</td>\n",
       "      <td>1.145000</td>\n",
       "      <td>35.54200</td>\n",
       "      <td>1.407000</td>\n",
       "    </tr>\n",
       "    <tr>\n",
       "      <th>std</th>\n",
       "      <td>0.458487</td>\n",
       "      <td>12.058814</td>\n",
       "      <td>2822.75176</td>\n",
       "      <td>0.477706</td>\n",
       "      <td>11.35267</td>\n",
       "      <td>0.577654</td>\n",
       "    </tr>\n",
       "    <tr>\n",
       "      <th>min</th>\n",
       "      <td>0.000000</td>\n",
       "      <td>4.000000</td>\n",
       "      <td>250.00000</td>\n",
       "      <td>1.000000</td>\n",
       "      <td>19.00000</td>\n",
       "      <td>1.000000</td>\n",
       "    </tr>\n",
       "    <tr>\n",
       "      <th>25%</th>\n",
       "      <td>0.000000</td>\n",
       "      <td>12.000000</td>\n",
       "      <td>1365.50000</td>\n",
       "      <td>1.000000</td>\n",
       "      <td>27.00000</td>\n",
       "      <td>1.000000</td>\n",
       "    </tr>\n",
       "    <tr>\n",
       "      <th>50%</th>\n",
       "      <td>1.000000</td>\n",
       "      <td>18.000000</td>\n",
       "      <td>2319.50000</td>\n",
       "      <td>1.000000</td>\n",
       "      <td>33.00000</td>\n",
       "      <td>1.000000</td>\n",
       "    </tr>\n",
       "    <tr>\n",
       "      <th>75%</th>\n",
       "      <td>1.000000</td>\n",
       "      <td>24.000000</td>\n",
       "      <td>3972.25000</td>\n",
       "      <td>1.000000</td>\n",
       "      <td>42.00000</td>\n",
       "      <td>2.000000</td>\n",
       "    </tr>\n",
       "    <tr>\n",
       "      <th>max</th>\n",
       "      <td>1.000000</td>\n",
       "      <td>72.000000</td>\n",
       "      <td>18424.00000</td>\n",
       "      <td>3.000000</td>\n",
       "      <td>75.00000</td>\n",
       "      <td>4.000000</td>\n",
       "    </tr>\n",
       "  </tbody>\n",
       "</table>\n",
       "</div>"
      ],
      "text/plain": [
       "       Creditability  Duration of Credit (month)  Credit Amount   Guarantors  \\\n",
       "count    1000.000000                 1000.000000     1000.00000  1000.000000   \n",
       "mean        0.700000                   20.903000     3271.24800     1.145000   \n",
       "std         0.458487                   12.058814     2822.75176     0.477706   \n",
       "min         0.000000                    4.000000      250.00000     1.000000   \n",
       "25%         0.000000                   12.000000     1365.50000     1.000000   \n",
       "50%         1.000000                   18.000000     2319.50000     1.000000   \n",
       "75%         1.000000                   24.000000     3972.25000     1.000000   \n",
       "max         1.000000                   72.000000    18424.00000     3.000000   \n",
       "\n",
       "       Age (years)  No of Credits at this Bank  \n",
       "count   1000.00000                 1000.000000  \n",
       "mean      35.54200                    1.407000  \n",
       "std       11.35267                    0.577654  \n",
       "min       19.00000                    1.000000  \n",
       "25%       27.00000                    1.000000  \n",
       "50%       33.00000                    1.000000  \n",
       "75%       42.00000                    2.000000  \n",
       "max       75.00000                    4.000000  "
      ]
     },
     "execution_count": 7,
     "metadata": {},
     "output_type": "execute_result"
    }
   ],
   "source": [
    "df.describe()"
   ]
  },
  {
   "cell_type": "markdown",
   "metadata": {},
   "source": [
    "# Heatmap displaying correlation between numerical columns"
   ]
  },
  {
   "cell_type": "code",
   "execution_count": 8,
   "metadata": {},
   "outputs": [
    {
     "data": {
      "text/plain": [
       "<matplotlib.axes._subplots.AxesSubplot at 0x7f03bae62d30>"
      ]
     },
     "execution_count": 8,
     "metadata": {},
     "output_type": "execute_result"
    },
    {
     "data": {
      "image/png": "[encoded data removed]",
      "text/plain": [
       "<Figure size 1512x1512 with 2 Axes>"
      ]
     },
     "metadata": {
      "needs_background": "light"
     },
     "output_type": "display_data"
    }
   ],
   "source": [
    "plt.figure(figsize = (21,21))\n",
    "sns.heatmap(df.corr(), linewidths=3, annot=True)\n"
   ]
  },
  {
   "cell_type": "markdown",
   "metadata": {},
   "source": [
    "## Influence on creditability by different categorical columns"
   ]
  },
  {
   "cell_type": "code",
   "execution_count": 9,
   "metadata": {},
   "outputs": [
    {
     "name": "stdout",
     "output_type": "stream",
     "text": [
      "Account balance:\n",
      " - 1 - No running bank account\n",
      " - 2 - Debt or level\n",
      " - 3 - Balance of <200DM\n",
      " - 4 - Balance of >=200DM\n",
      " DM refers to Deutsche Mark(old german currency)\n"
     ]
    },
    {
     "data": {
      "text/html": [
       "<div>\n",
       "<style scoped>\n",
       "    .dataframe tbody tr th:only-of-type {\n",
       "        vertical-align: middle;\n",
       "    }\n",
       "\n",
       "    .dataframe tbody tr th {\n",
       "        vertical-align: top;\n",
       "    }\n",
       "\n",
       "    .dataframe thead th {\n",
       "        text-align: right;\n",
       "    }\n",
       "</style>\n",
       "<table border=\"1\" class=\"dataframe\">\n",
       "  <thead>\n",
       "    <tr style=\"text-align: right;\">\n",
       "      <th></th>\n",
       "      <th>Account Balance</th>\n",
       "      <th>Creditability</th>\n",
       "    </tr>\n",
       "  </thead>\n",
       "  <tbody>\n",
       "    <tr>\n",
       "      <th>3</th>\n",
       "      <td>4</td>\n",
       "      <td>0.883249</td>\n",
       "    </tr>\n",
       "    <tr>\n",
       "      <th>2</th>\n",
       "      <td>3</td>\n",
       "      <td>0.777778</td>\n",
       "    </tr>\n",
       "    <tr>\n",
       "      <th>1</th>\n",
       "      <td>2</td>\n",
       "      <td>0.609665</td>\n",
       "    </tr>\n",
       "    <tr>\n",
       "      <th>0</th>\n",
       "      <td>1</td>\n",
       "      <td>0.507299</td>\n",
       "    </tr>\n",
       "  </tbody>\n",
       "</table>\n",
       "</div>"
      ],
      "text/plain": [
       "  Account Balance  Creditability\n",
       "3               4       0.883249\n",
       "2               3       0.777778\n",
       "1               2       0.609665\n",
       "0               1       0.507299"
      ]
     },
     "execution_count": 9,
     "metadata": {},
     "output_type": "execute_result"
    }
   ],
   "source": [
    "print('Account balance:\\n \\\n",
    "- 1 - No running bank account\\n \\\n",
    "- 2 - Debt or level\\n \\\n",
    "- 3 - Balance of <200DM\\n \\\n",
    "- 4 - Balance of >=200DM\\n \\\n",
    "DM refers to Deutsche Mark(old german currency)')\n",
    "df[['Creditability','Account Balance']].groupby(['Account Balance'], as_index=False).mean().sort_values(by='Creditability', ascending=False)\n"
   ]
  },
  {
   "cell_type": "code",
   "execution_count": 10,
   "metadata": {},
   "outputs": [
    {
     "name": "stdout",
     "output_type": "stream",
     "text": [
      "Value Savings/Stocks:\n",
      " - 1 - None t\n",
      " - 2 - Below 100 DM\n",
      " - 3 - [100;500} DM\n",
      " - 4 - [500;1000} DM\n",
      " - 5 - >1000 DM \n",
      "DM refers to Deutsche Mark(old german currency)\n"
     ]
    },
    {
     "data": {
      "text/html": [
       "<div>\n",
       "<style scoped>\n",
       "    .dataframe tbody tr th:only-of-type {\n",
       "        vertical-align: middle;\n",
       "    }\n",
       "\n",
       "    .dataframe tbody tr th {\n",
       "        vertical-align: top;\n",
       "    }\n",
       "\n",
       "    .dataframe thead th {\n",
       "        text-align: right;\n",
       "    }\n",
       "</style>\n",
       "<table border=\"1\" class=\"dataframe\">\n",
       "  <thead>\n",
       "    <tr style=\"text-align: right;\">\n",
       "      <th></th>\n",
       "      <th>Value Savings/Stocks</th>\n",
       "      <th>Creditability</th>\n",
       "    </tr>\n",
       "  </thead>\n",
       "  <tbody>\n",
       "    <tr>\n",
       "      <th>3</th>\n",
       "      <td>4</td>\n",
       "      <td>0.875000</td>\n",
       "    </tr>\n",
       "    <tr>\n",
       "      <th>2</th>\n",
       "      <td>3</td>\n",
       "      <td>0.825397</td>\n",
       "    </tr>\n",
       "    <tr>\n",
       "      <th>4</th>\n",
       "      <td>5</td>\n",
       "      <td>0.825137</td>\n",
       "    </tr>\n",
       "    <tr>\n",
       "      <th>1</th>\n",
       "      <td>2</td>\n",
       "      <td>0.669903</td>\n",
       "    </tr>\n",
       "    <tr>\n",
       "      <th>0</th>\n",
       "      <td>1</td>\n",
       "      <td>0.640133</td>\n",
       "    </tr>\n",
       "  </tbody>\n",
       "</table>\n",
       "</div>"
      ],
      "text/plain": [
       "  Value Savings/Stocks  Creditability\n",
       "3                    4       0.875000\n",
       "2                    3       0.825397\n",
       "4                    5       0.825137\n",
       "1                    2       0.669903\n",
       "0                    1       0.640133"
      ]
     },
     "execution_count": 10,
     "metadata": {},
     "output_type": "execute_result"
    }
   ],
   "source": [
    "print('Value Savings/Stocks:\\n \\\n",
    "- 1 - None t\\n \\\n",
    "- 2 - Below 100 DM\\n \\\n",
    "- 3 - [100;500} DM\\n \\\n",
    "- 4 - [500;1000} DM\\n \\\n",
    "- 5 - >1000 DM \\n\\\n",
    "DM refers to Deutsche Mark(old german currency)')\n",
    "df[['Creditability','Value Savings/Stocks']].groupby(['Value Savings/Stocks'], as_index=False).mean().sort_values(by='Creditability', ascending=False)\n"
   ]
  },
  {
   "cell_type": "code",
   "execution_count": 11,
   "metadata": {},
   "outputs": [
    {
     "name": "stdout",
     "output_type": "stream",
     "text": [
      "Most valuable asset:\n",
      " - 1 - None\n",
      " - 2 - Car\n",
      " - 3 - Life insurance \n",
      " - 4 - Real estate \n",
      " \n"
     ]
    },
    {
     "data": {
      "text/html": [
       "<div>\n",
       "<style scoped>\n",
       "    .dataframe tbody tr th:only-of-type {\n",
       "        vertical-align: middle;\n",
       "    }\n",
       "\n",
       "    .dataframe tbody tr th {\n",
       "        vertical-align: top;\n",
       "    }\n",
       "\n",
       "    .dataframe thead th {\n",
       "        text-align: right;\n",
       "    }\n",
       "</style>\n",
       "<table border=\"1\" class=\"dataframe\">\n",
       "  <thead>\n",
       "    <tr style=\"text-align: right;\">\n",
       "      <th></th>\n",
       "      <th>Most valuable available asset</th>\n",
       "      <th>Creditability</th>\n",
       "    </tr>\n",
       "  </thead>\n",
       "  <tbody>\n",
       "    <tr>\n",
       "      <th>0</th>\n",
       "      <td>1</td>\n",
       "      <td>0.787234</td>\n",
       "    </tr>\n",
       "    <tr>\n",
       "      <th>1</th>\n",
       "      <td>2</td>\n",
       "      <td>0.693966</td>\n",
       "    </tr>\n",
       "    <tr>\n",
       "      <th>2</th>\n",
       "      <td>3</td>\n",
       "      <td>0.692771</td>\n",
       "    </tr>\n",
       "    <tr>\n",
       "      <th>3</th>\n",
       "      <td>4</td>\n",
       "      <td>0.564935</td>\n",
       "    </tr>\n",
       "  </tbody>\n",
       "</table>\n",
       "</div>"
      ],
      "text/plain": [
       "  Most valuable available asset  Creditability\n",
       "0                             1       0.787234\n",
       "1                             2       0.693966\n",
       "2                             3       0.692771\n",
       "3                             4       0.564935"
      ]
     },
     "execution_count": 11,
     "metadata": {},
     "output_type": "execute_result"
    }
   ],
   "source": [
    "print('Most valuable asset:\\n \\\n",
    "- 1 - None\\n \\\n",
    "- 2 - Car\\n \\\n",
    "- 3 - Life insurance \\n \\\n",
    "- 4 - Real estate \\n ')\n",
    "df[['Creditability','Most valuable available asset']].groupby(['Most valuable available asset'], as_index=False).mean().sort_values(by='Creditability', ascending=False)\n"
   ]
  },
  {
   "cell_type": "code",
   "execution_count": 12,
   "metadata": {},
   "outputs": [
    {
     "name": "stdout",
     "output_type": "stream",
     "text": [
      "Sex & Marital Status \n",
      " - 1 - Male. Divorced\n",
      " - 2 - Male, Single\n",
      " - 3 - Male, Married/Widowed \n",
      " - 4 - Female \n",
      " \n"
     ]
    },
    {
     "data": {
      "text/html": [
       "<div>\n",
       "<style scoped>\n",
       "    .dataframe tbody tr th:only-of-type {\n",
       "        vertical-align: middle;\n",
       "    }\n",
       "\n",
       "    .dataframe tbody tr th {\n",
       "        vertical-align: top;\n",
       "    }\n",
       "\n",
       "    .dataframe thead th {\n",
       "        text-align: right;\n",
       "    }\n",
       "</style>\n",
       "<table border=\"1\" class=\"dataframe\">\n",
       "  <thead>\n",
       "    <tr style=\"text-align: right;\">\n",
       "      <th></th>\n",
       "      <th>Sex &amp; Marital Status</th>\n",
       "      <th>Creditability</th>\n",
       "    </tr>\n",
       "  </thead>\n",
       "  <tbody>\n",
       "    <tr>\n",
       "      <th>2</th>\n",
       "      <td>3</td>\n",
       "      <td>0.733577</td>\n",
       "    </tr>\n",
       "    <tr>\n",
       "      <th>3</th>\n",
       "      <td>4</td>\n",
       "      <td>0.728261</td>\n",
       "    </tr>\n",
       "    <tr>\n",
       "      <th>1</th>\n",
       "      <td>2</td>\n",
       "      <td>0.648387</td>\n",
       "    </tr>\n",
       "    <tr>\n",
       "      <th>0</th>\n",
       "      <td>1</td>\n",
       "      <td>0.600000</td>\n",
       "    </tr>\n",
       "  </tbody>\n",
       "</table>\n",
       "</div>"
      ],
      "text/plain": [
       "  Sex & Marital Status  Creditability\n",
       "2                    3       0.733577\n",
       "3                    4       0.728261\n",
       "1                    2       0.648387\n",
       "0                    1       0.600000"
      ]
     },
     "execution_count": 12,
     "metadata": {},
     "output_type": "execute_result"
    }
   ],
   "source": [
    "print('Sex & Marital Status \\n \\\n",
    "- 1 - Male. Divorced\\n \\\n",
    "- 2 - Male, Single\\n \\\n",
    "- 3 - Male, Married/Widowed \\n \\\n",
    "- 4 - Female \\n ')\n",
    "df[['Creditability','Sex & Marital Status']].groupby(['Sex & Marital Status'], as_index=False).mean().sort_values(by='Creditability', ascending=False)"
   ]
  },
  {
   "cell_type": "code",
   "execution_count": 13,
   "metadata": {},
   "outputs": [
    {
     "name": "stdout",
     "output_type": "stream",
     "text": [
      "Payment Status of Previous Credit \n",
      " - 1 - Delayed\n",
      " - 2 - Other Credits\n",
      " - 3 - Paid Up \n",
      " - 4 - No problem with current credits \n",
      " - 5 - Previous Credits Paid\n"
     ]
    },
    {
     "data": {
      "text/html": [
       "<div>\n",
       "<style scoped>\n",
       "    .dataframe tbody tr th:only-of-type {\n",
       "        vertical-align: middle;\n",
       "    }\n",
       "\n",
       "    .dataframe tbody tr th {\n",
       "        vertical-align: top;\n",
       "    }\n",
       "\n",
       "    .dataframe thead th {\n",
       "        text-align: right;\n",
       "    }\n",
       "</style>\n",
       "<table border=\"1\" class=\"dataframe\">\n",
       "  <thead>\n",
       "    <tr style=\"text-align: right;\">\n",
       "      <th></th>\n",
       "      <th>Payment Status of Previous Credit</th>\n",
       "      <th>Creditability</th>\n",
       "    </tr>\n",
       "  </thead>\n",
       "  <tbody>\n",
       "    <tr>\n",
       "      <th>4</th>\n",
       "      <td>4</td>\n",
       "      <td>0.829352</td>\n",
       "    </tr>\n",
       "    <tr>\n",
       "      <th>3</th>\n",
       "      <td>3</td>\n",
       "      <td>0.681818</td>\n",
       "    </tr>\n",
       "    <tr>\n",
       "      <th>2</th>\n",
       "      <td>2</td>\n",
       "      <td>0.681132</td>\n",
       "    </tr>\n",
       "    <tr>\n",
       "      <th>1</th>\n",
       "      <td>1</td>\n",
       "      <td>0.428571</td>\n",
       "    </tr>\n",
       "    <tr>\n",
       "      <th>0</th>\n",
       "      <td>0</td>\n",
       "      <td>0.375000</td>\n",
       "    </tr>\n",
       "  </tbody>\n",
       "</table>\n",
       "</div>"
      ],
      "text/plain": [
       "  Payment Status of Previous Credit  Creditability\n",
       "4                                 4       0.829352\n",
       "3                                 3       0.681818\n",
       "2                                 2       0.681132\n",
       "1                                 1       0.428571\n",
       "0                                 0       0.375000"
      ]
     },
     "execution_count": 13,
     "metadata": {},
     "output_type": "execute_result"
    }
   ],
   "source": [
    "print('Payment Status of Previous Credit \\n \\\n",
    "- 1 - Delayed\\n \\\n",
    "- 2 - Other Credits\\n \\\n",
    "- 3 - Paid Up \\n \\\n",
    "- 4 - No problem with current credits \\n \\\n",
    "- 5 - Previous Credits Paid')\n",
    "df[['Creditability','Payment Status of Previous Credit']].groupby(['Payment Status of Previous Credit'], as_index=False).mean().sort_values(by='Creditability', ascending=False)"
   ]
  },
  {
   "cell_type": "code",
   "execution_count": 14,
   "metadata": {},
   "outputs": [
    {
     "name": "stdout",
     "output_type": "stream",
     "text": [
      "Guarantor \n",
      " - 1 - None\n",
      " - 2 - Co-applicant\n",
      " - 3 - Guarantor  \n"
     ]
    },
    {
     "data": {
      "text/html": [
       "<div>\n",
       "<style scoped>\n",
       "    .dataframe tbody tr th:only-of-type {\n",
       "        vertical-align: middle;\n",
       "    }\n",
       "\n",
       "    .dataframe tbody tr th {\n",
       "        vertical-align: top;\n",
       "    }\n",
       "\n",
       "    .dataframe thead th {\n",
       "        text-align: right;\n",
       "    }\n",
       "</style>\n",
       "<table border=\"1\" class=\"dataframe\">\n",
       "  <thead>\n",
       "    <tr style=\"text-align: right;\">\n",
       "      <th></th>\n",
       "      <th>Guarantors</th>\n",
       "      <th>Creditability</th>\n",
       "    </tr>\n",
       "  </thead>\n",
       "  <tbody>\n",
       "    <tr>\n",
       "      <th>2</th>\n",
       "      <td>3</td>\n",
       "      <td>0.807692</td>\n",
       "    </tr>\n",
       "    <tr>\n",
       "      <th>0</th>\n",
       "      <td>1</td>\n",
       "      <td>0.700110</td>\n",
       "    </tr>\n",
       "    <tr>\n",
       "      <th>1</th>\n",
       "      <td>2</td>\n",
       "      <td>0.560976</td>\n",
       "    </tr>\n",
       "  </tbody>\n",
       "</table>\n",
       "</div>"
      ],
      "text/plain": [
       "   Guarantors  Creditability\n",
       "2           3       0.807692\n",
       "0           1       0.700110\n",
       "1           2       0.560976"
      ]
     },
     "execution_count": 14,
     "metadata": {},
     "output_type": "execute_result"
    }
   ],
   "source": [
    "print('Guarantor \\n \\\n",
    "- 1 - None\\n \\\n",
    "- 2 - Co-applicant\\n \\\n",
    "- 3 - Guarantor  ')\n",
    "df[['Creditability','Guarantors']].groupby(['Guarantors'], as_index=False).mean().sort_values(by='Creditability', ascending=False)"
   ]
  },
  {
   "cell_type": "markdown",
   "metadata": {},
   "source": [
    "## Creditability by duration of credit\n"
   ]
  },
  {
   "cell_type": "code",
   "execution_count": 15,
   "metadata": {
    "scrolled": true
   },
   "outputs": [
    {
     "data": {
      "image/png": "[encoded data removed]",
      "text/plain": [
       "<Figure size 1728x432 with 2 Axes>"
      ]
     },
     "metadata": {
      "needs_background": "light"
     },
     "output_type": "display_data"
    }
   ],
   "source": [
    "g = sns.FacetGrid(df, col='Creditability', height=6, aspect=2)\n",
    "g.map(plt.hist, 'Duration of Credit (month)', bins=20);"
   ]
  },
  {
   "cell_type": "markdown",
   "metadata": {},
   "source": [
    "## Credit amount by age"
   ]
  },
  {
   "cell_type": "code",
   "execution_count": 16,
   "metadata": {},
   "outputs": [
    {
     "data": {
      "image/png": "[encoded data removed]",
      "text/plain": [
       "<Figure size 432x432 with 3 Axes>"
      ]
     },
     "metadata": {
      "needs_background": "light"
     },
     "output_type": "display_data"
    }
   ],
   "source": [
    "sns.jointplot(x='Age (years)', y='Credit Amount', data=df, color='g');"
   ]
  },
  {
   "cell_type": "markdown",
   "metadata": {},
   "source": [
    "## Duration of credit by age"
   ]
  },
  {
   "cell_type": "code",
   "execution_count": 17,
   "metadata": {
    "scrolled": false
   },
   "outputs": [
    {
     "data": {
      "image/png": "[encoded data removed]",
      "text/plain": [
       "<Figure size 432x432 with 3 Axes>"
      ]
     },
     "metadata": {
      "needs_background": "light"
     },
     "output_type": "display_data"
    }
   ],
   "source": [
    "sns.jointplot(x='Age (years)', y='Duration of Credit (month)', data=df, color='g');"
   ]
  },
  {
   "cell_type": "markdown",
   "metadata": {},
   "source": [
    "# Classifiers\n",
    "### The classification was conducted performed using:\n",
    "  * The creditability column was transformed into the target attribute and named as Y\n",
    "  * The rest of the columns (besides Telephone and No. of dependents) were transformed into the dataset X\n",
    "  * All column types in X were changed back to numerical\n",
    "  * All column were scaled using the min_max_scaler()\n",
    "  * The X and Y dataset was split into training sets and testing sets in proportion of 4:1"
   ]
  },
  {
   "cell_type": "markdown",
   "metadata": {},
   "source": [
    "# SVM"
   ]
  },
  {
   "cell_type": "markdown",
   "metadata": {},
   "source": [
    "# Best parameters setup:\n",
    "* training set/test set = 4:1\n",
    "* kernel - rbf\n",
    "* gamma - scale\n",
    "* C - 1.1"
   ]
  },
  {
   "cell_type": "code",
   "execution_count": 18,
   "metadata": {},
   "outputs": [
    {
     "data": {
      "text/plain": [
       "SVC(C=1.1, break_ties=False, cache_size=200, class_weight=None, coef0=0.0,\n",
       "    decision_function_shape='ovr', degree=3, gamma='scale', kernel='rbf',\n",
       "    max_iter=-1, probability=False, random_state=None, shrinking=True,\n",
       "    tol=0.001, verbose=False)"
      ]
     },
     "execution_count": 18,
     "metadata": {},
     "output_type": "execute_result"
    }
   ],
   "source": [
    "\n",
    "X = df_numeric.drop(['No of dependents','Telephone','Creditability'],axis=1)\n",
    "Y = df_numeric['Creditability']\n",
    "min_max_scaler = preprocessing.MinMaxScaler()\n",
    "X = min_max_scaler.fit_transform(X)\n",
    "X_train, X_test, Y_train, Y_test = train_test_split(X, Y, test_size=0.2,random_state=109) \n",
    "clf = svm.SVC(kernel = 'rbf',gamma='scale',C=1.1)\n",
    "clf.fit(X_train,Y_train)\n",
    "\n",
    "\n"
   ]
  },
  {
   "cell_type": "code",
   "execution_count": 19,
   "metadata": {},
   "outputs": [
    {
     "name": "stdout",
     "output_type": "stream",
     "text": [
      "Accuracy: 0.805\n",
      "Precision: 0.8074534161490683\n",
      "Recall: 0.9420289855072463\n",
      "F1_score: 0.8695652173913043\n"
     ]
    }
   ],
   "source": [
    "pred = clf.predict(X_test)\n",
    "cm = confusion_matrix(Y_test, pred)\n",
    "acc = accuracy_score(Y_test, pred)\n",
    "precision = precision_score(Y_test, pred)\n",
    "recall = recall_score(Y_test, pred)\n",
    "f_score = f1_score(Y_test, pred)\n",
    "accs = [0.0,0.0,0.0,acc]\n",
    "\n",
    "print('Accuracy: {}\\nPrecision: {}\\nRecall: {}\\nF1_score: {}'.format(\n",
    "        acc, precision, recall, f_score))\n",
    "#print(pred)"
   ]
  },
  {
   "cell_type": "code",
   "execution_count": 20,
   "metadata": {},
   "outputs": [
    {
     "data": {
      "image/png": "[encoded data removed]",
      "text/plain": [
       "<Figure size 432x288 with 2 Axes>"
      ]
     },
     "metadata": {
      "needs_background": "light"
     },
     "output_type": "display_data"
    }
   ],
   "source": [
    "sns.heatmap(cm, annot=True, fmt='')\n",
    "plt.ylabel('True label')\n",
    "plt.xlabel('Predicted label')\n",
    "plt.show()"
   ]
  },
  {
   "cell_type": "markdown",
   "metadata": {},
   "source": [
    "## SVM with different kernels (poly, linear, sigmoid)"
   ]
  },
  {
   "cell_type": "code",
   "execution_count": 21,
   "metadata": {},
   "outputs": [
    {
     "name": "stdout",
     "output_type": "stream",
     "text": [
      "poly\n",
      "Accuracy: 0.765\n",
      "linear\n",
      "Accuracy: 0.755\n",
      "sigmoid\n",
      "Accuracy: 0.575\n"
     ]
    }
   ],
   "source": [
    "svmkernels = ['poly','linear','sigmoid']\n",
    "i=0\n",
    "for kernel_name in svmkernels:\n",
    "    print(kernel_name)\n",
    "    clf = svm.SVC(kernel = kernel_name,gamma='scale',C=1.1)\n",
    "    clf.fit(X_train,Y_train)\n",
    "    pred = clf.predict(X_test)\n",
    "    cm = confusion_matrix(Y_test, pred)\n",
    "    acc = accuracy_score(Y_test, pred)\n",
    "    precision = precision_score(Y_test, pred)\n",
    "    recall = recall_score(Y_test, pred)\n",
    "    f_score = f1_score(Y_test, pred)\n",
    "    accs[i] = acc\n",
    "    i+=1\n",
    "    print('Accuracy: {}'.format(\n",
    "        acc))\n",
    "svmkernels.append('rbf')"
   ]
  },
  {
   "cell_type": "code",
   "execution_count": 22,
   "metadata": {},
   "outputs": [
    {
     "data": {
      "image/png": "[encoded data removed]",
      "text/plain": [
       "<Figure size 432x288 with 1 Axes>"
      ]
     },
     "metadata": {
      "needs_background": "light"
     },
     "output_type": "display_data"
    }
   ],
   "source": [
    "\n",
    "y_pos = np.arange(len(svmkernels))\n",
    "plt.bar(y_pos,accs,align='center',alpha=0.5)\n",
    "plt.xticks(y_pos, svmkernels)\n",
    "plt.ylabel('Accuracy')\n",
    "plt.title('Kernel')\n",
    "plt.ylim(0.4,0.9)\n",
    "plt.show()"
   ]
  },
  {
   "cell_type": "markdown",
   "metadata": {},
   "source": [
    "## SVM with rbf kernel, with different C values"
   ]
  },
  {
   "cell_type": "code",
   "execution_count": 23,
   "metadata": {},
   "outputs": [
    {
     "name": "stdout",
     "output_type": "stream",
     "text": [
      "C value: 0.5 Accuracy: 0.795\n",
      "C value: 0.6 Accuracy: 0.79\n",
      "C value: 0.7 Accuracy: 0.795\n",
      "C value: 0.8 Accuracy: 0.795\n",
      "C value: 0.9 Accuracy: 0.79\n",
      "C value: 1.0 Accuracy: 0.795\n",
      "C value: 1.1 Accuracy: 0.805\n",
      "C value: 1.2 Accuracy: 0.805\n",
      "C value: 1.3 Accuracy: 0.795\n",
      "C value: 1.4 Accuracy: 0.785\n",
      "C value: 1.5 Accuracy: 0.785\n"
     ]
    }
   ],
   "source": [
    "cvalues = [0.5,0.6,0.7,0.8,0.9,1.0,1.1,1.2,1.3,1.4,1.5]\n",
    "caccs = []\n",
    "for cvalue in cvalues:\n",
    "    \n",
    "    clf = svm.SVC(kernel = 'rbf',gamma='scale',C=cvalue)\n",
    "    clf.fit(X_train,Y_train)\n",
    "    pred = clf.predict(X_test)\n",
    "    cm = confusion_matrix(Y_test, pred)\n",
    "    acc = accuracy_score(Y_test, pred)\n",
    "    precision = precision_score(Y_test, pred)\n",
    "    recall = recall_score(Y_test, pred)\n",
    "    f_score = f1_score(Y_test, pred)\n",
    "    caccs.append(acc)\n",
    "    print('C value: {} Accuracy: {}'.format(cvalue,\n",
    "        acc))\n"
   ]
  },
  {
   "cell_type": "code",
   "execution_count": 24,
   "metadata": {},
   "outputs": [
    {
     "data": {
      "image/png": "[encoded data removed]",
      "text/plain": [
       "<Figure size 432x288 with 1 Axes>"
      ]
     },
     "metadata": {
      "needs_background": "light"
     },
     "output_type": "display_data"
    }
   ],
   "source": [
    "y_pos = np.arange(len(cvalues))\n",
    "plt.bar(y_pos,caccs,align='center',alpha=0.5)\n",
    "plt.xticks(y_pos, cvalues)\n",
    "plt.ylabel('Accuracy')\n",
    "plt.title('C value')\n",
    "plt.ylim(0.7,0.9)\n",
    "plt.show()"
   ]
  },
  {
   "cell_type": "markdown",
   "metadata": {},
   "source": [
    "# Gaussian Naive Bayes Classifier\n"
   ]
  },
  {
   "cell_type": "code",
   "execution_count": 25,
   "metadata": {},
   "outputs": [
    {
     "name": "stdout",
     "output_type": "stream",
     "text": [
      "Accuracy: 0.725\n",
      "Precision: 0.8672566371681416\n",
      "Recall: 0.7101449275362319\n",
      "F1_score: 0.7808764940239045\n"
     ]
    }
   ],
   "source": [
    "gnb = GaussianNB()\n",
    "pred = gnb.fit(X_train,Y_train).predict(X_test);\n",
    "cm = confusion_matrix(Y_test, pred)\n",
    "acc = accuracy_score(Y_test, pred)\n",
    "precision = precision_score(Y_test, pred)\n",
    "recall = recall_score(Y_test, pred)\n",
    "f_score = f1_score(Y_test, pred)\n",
    "\n",
    "print('Accuracy: {}\\nPrecision: {}\\nRecall: {}\\nF1_score: {}'.format(\n",
    "        acc, precision, recall, f_score))"
   ]
  },
  {
   "cell_type": "code",
   "execution_count": 26,
   "metadata": {},
   "outputs": [
    {
     "data": {
      "image/png": "[encoded data removed]",
      "text/plain": [
       "<Figure size 432x288 with 2 Axes>"
      ]
     },
     "metadata": {
      "needs_background": "light"
     },
     "output_type": "display_data"
    }
   ],
   "source": [
    "sns.heatmap(cm, annot=True, fmt='')\n",
    "plt.ylabel('True label')\n",
    "plt.xlabel('Predicted label')\n",
    "plt.show()"
   ]
  },
  {
   "cell_type": "markdown",
   "metadata": {},
   "source": [
    "# Categorical Naive Bayes Classifier"
   ]
  },
  {
   "cell_type": "code",
   "execution_count": 27,
   "metadata": {},
   "outputs": [
    {
     "name": "stdout",
     "output_type": "stream",
     "text": [
      "Accuracy: 0.76\n",
      "Precision: 0.7960526315789473\n",
      "Recall: 0.8768115942028986\n",
      "F1_score: 0.8344827586206897\n"
     ]
    }
   ],
   "source": [
    "clf = CategoricalNB()\n",
    "pred = clf.fit(X_train,Y_train).predict(X_test);\n",
    "cm = confusion_matrix(Y_test, pred)\n",
    "acc = accuracy_score(Y_test, pred)\n",
    "precision = precision_score(Y_test, pred)\n",
    "recall = recall_score(Y_test, pred)\n",
    "f_score = f1_score(Y_test, pred)\n",
    "\n",
    "print('Accuracy: {}\\nPrecision: {}\\nRecall: {}\\nF1_score: {}'.format(\n",
    "        acc, precision, recall, f_score))"
   ]
  },
  {
   "cell_type": "code",
   "execution_count": 28,
   "metadata": {},
   "outputs": [
    {
     "data": {
      "image/png": "[encoded data removed]",
      "text/plain": [
       "<Figure size 432x288 with 2 Axes>"
      ]
     },
     "metadata": {
      "needs_background": "light"
     },
     "output_type": "display_data"
    }
   ],
   "source": [
    "sns.heatmap(cm, annot=True, fmt='')\n",
    "plt.ylabel('True label')\n",
    "plt.xlabel('Predicted label')\n",
    "plt.show()"
   ]
  },
  {
   "cell_type": "markdown",
   "metadata": {},
   "source": [
    "# Bernoulli Naive Bayes Classifier"
   ]
  },
  {
   "cell_type": "code",
   "execution_count": 29,
   "metadata": {},
   "outputs": [
    {
     "name": "stdout",
     "output_type": "stream",
     "text": [
      "Accuracy: 0.73\n",
      "Precision: 0.7625\n",
      "Recall: 0.8840579710144928\n",
      "F1_score: 0.8187919463087248\n"
     ]
    }
   ],
   "source": [
    "clf = BernoulliNB()\n",
    "pred = clf.fit(X_train,Y_train).predict(X_test);\n",
    "cm = confusion_matrix(Y_test, pred)\n",
    "acc = accuracy_score(Y_test, pred)\n",
    "precision = precision_score(Y_test, pred)\n",
    "recall = recall_score(Y_test, pred)\n",
    "f_score = f1_score(Y_test, pred)\n",
    "\n",
    "print('Accuracy: {}\\nPrecision: {}\\nRecall: {}\\nF1_score: {}'.format(\n",
    "        acc, precision, recall, f_score))"
   ]
  },
  {
   "cell_type": "code",
   "execution_count": 30,
   "metadata": {},
   "outputs": [
    {
     "data": {
      "image/png": "[encoded data removed]",
      "text/plain": [
       "<Figure size 432x288 with 2 Axes>"
      ]
     },
     "metadata": {
      "needs_background": "light"
     },
     "output_type": "display_data"
    }
   ],
   "source": [
    "sns.heatmap(cm, annot=True, fmt='')\n",
    "plt.ylabel('True label')\n",
    "plt.xlabel('Predicted label')\n",
    "plt.show()"
   ]
  },
  {
   "cell_type": "markdown",
   "metadata": {},
   "source": [
    "## Summary\n",
    "### SVM\n",
    "* rbf and polynomial kernels perform slightly better than the linear kernel as the search space has almost 20 dimensions and creditability isn't highly dependent on one attribute, so it's hard to separate objects with a simple hiperplain.\n",
    "* the best value for C was between 1.1-1.2. C is responsible for the regularization. The higher C is, the softer regularization becomes.\n",
    "### Bayes classifier\n",
    "* the Gaussian and Bernoulli naive Bayes classifier's classification didn't turn out to be accurate, because the data set wasn't suitable for both of them. The former is meant to be used on data whose distribution is similar to the normal distribution, meanwhile the latter is supposed to be used on boolean values\n",
    "* the Categorical naive Bayes classifier performed fairly well thanks to the fact that most of data was of categorical type\n",
    "* the Bayes classifier might have performed much better if the dataset had been trimmed. There were columns in the dataset that had very low correlation with the creditability.\n",
    "### Comparison\n",
    "* SVM with the rbf kernel classified objects with the highest accuracy, recall and f1_score. The only metric in which it didn't perform well was precision as it produced a lot of false positives\n",
    "* the Gaussian naive Bayes classifier had the highest precision of all classifiers, despite the lack of accuracy\n",
    "* the Categorical naive Bayes classifier's results were similar to the ones achieved with the SVM with polynomial or linear kernel\n",
    "* it can't be easily stated which classifier is the best in the case of this study. As accurate as the SVM with rbf kernel classifier is, its low precision is a major concern, because classifying untrustworthy credit takers as trustworthy may create a lot of losses for the bank. On the other hand the other classifiers had much worse accuracy. "
   ]
  },
  {
   "cell_type": "code",
   "execution_count": null,
   "metadata": {},
   "outputs": [],
   "source": []
  }
 ],
 "metadata": {
  "kernelspec": {
   "display_name": "Python 3",
   "language": "python",
   "name": "python3"
  },
  "language_info": {
   "codemirror_mode": {
    "name": "ipython",
    "version": 3
   },
   "file_extension": ".py",
   "mimetype": "text/x-python",
   "name": "python",
   "nbconvert_exporter": "python",
   "pygments_lexer": "ipython3",
   "version": "3.6.9"
  }
 },
 "nbformat": 4,
 "nbformat_minor": 2
}
